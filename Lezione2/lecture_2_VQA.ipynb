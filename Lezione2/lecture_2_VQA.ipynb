{
 "cells": [
  {
   "cell_type": "markdown",
   "id": "125bd72e",
   "metadata": {
    "slideshow": {
     "slide_type": "slide"
    }
   },
   "source": [
    "## Lecture 2 - $25^{th}$ November 2024\n",
    "#### Lecture 2 on Variational Quantum Algorithm\n",
    "<br>\n",
    "This notebook presentation is part of my lecture material for the Advanced Quantum Mechanics course at the University of Trieste. It contains a general introduction to Qiskit and Pennylane\n",
    "\n",
    "**Michele Grossi**, Coordinator of Hybrid Quantum Computing Infrastracture and Algorithms @ CERN\n"
   ]
  },
  {
   "cell_type": "markdown",
   "id": "9e2d0280",
   "metadata": {},
   "source": [
    "## Variational Quantum Algorithms\n",
    "\n",
    "Variational Quantum Algorithms (VQA) are hybrid algorithm that use a classical optimizer to train a parameterized quantum circuit to approximate solutions for a given problem. You will find this family of architectures for a lot of application in different fields like: Chemistry, Physics, Finance, Machine Learning and more.\n",
    "\n",
    "VQA typically need fewer gates and qubits. In turn, they are more resistant to noise and are well suited to handle near-term quantum computer constraints."
   ]
  },
  {
   "cell_type": "markdown",
   "id": "8cdacfd6",
   "metadata": {},
   "source": [
    "VQA's are typically iterative. Each iteration involves both quantum and classical processing. \n",
    "\n",
    "Output (a measurement) from one iteration is sent to the classical optimizer which generates input (a parameter) for the next iteration:\n",
    "\n",
    "<div>\n",
    "<img src=\"images/qva_loop.png\" width=\"600\" align=\"left\"/>\n",
    "</div>"
   ]
  },
  {
   "cell_type": "markdown",
   "id": "8747afb1-4031-4405-89a1-274427ce2f63",
   "metadata": {},
   "source": [
    "### VQE - Application to Physics to study static properties\n",
    "\n",
    "The Variational Quantum Eigensolver (VQE) is a central algorithm in many applications, e.g. quantum chemistry or optimization.\n",
    "This tutorial shows you how to run the VQE. We'll start off by defining the algorithm settings, such as the Hamiltonian and ansatz, and then run a VQE."
   ]
  },
  {
   "cell_type": "code",
   "execution_count": null,
   "id": "04943d89-fe8f-4b16-897b-77d202e1ec0c",
   "metadata": {},
   "outputs": [],
   "source": [
    "# VQE with PennyLane: Ground State of a 5-Qubit Hamiltonian\n",
    "import pennylane as qml\n",
    "from pennylane import numpy as np\n",
    "from scipy.linalg import eigh\n",
    "\n",
    "# 1. Define the problem Hamiltonian\n",
    "def define_hamiltonian():\n",
    "    \"\"\"Construct the Hamiltonian for the VQE problem.\"\"\"\n",
    "    coeffs = np.random.uniform(-1, 1, 15)  # Random coefficients\n",
    "    obs = [\n",
    "        qml.PauliZ(0) @ qml.PauliZ(1),\n",
    "        qml.PauliZ(1) @ qml.PauliZ(2),\n",
    "        qml.PauliZ(2) @ qml.PauliZ(3),\n",
    "        qml.PauliZ(3) @ qml.PauliZ(4),\n",
    "        qml.PauliZ(0) @ qml.PauliZ(4),\n",
    "        qml.PauliX(0),\n",
    "        qml.PauliX(1),\n",
    "        qml.PauliX(2),\n",
    "        qml.PauliX(3),\n",
    "        qml.PauliX(4),\n",
    "        qml.PauliY(0) @ qml.PauliY(1),\n",
    "        qml.PauliY(2) @ qml.PauliY(3),\n",
    "        qml.PauliY(3) @ qml.PauliY(4),\n",
    "        qml.PauliY(0) @ qml.PauliY(4),\n",
    "        qml.PauliZ(1) @ qml.PauliZ(3),\n",
    "    ]\n",
    "    return qml.Hamiltonian(coeffs, obs)\n",
    "\n",
    "hamiltonian = define_hamiltonian()\n",
    "n_qubits = 5"
   ]
  },
  {
   "cell_type": "code",
   "execution_count": null,
   "id": "428266c3-2d00-45bd-b6d6-b188be2a2cde",
   "metadata": {},
   "outputs": [],
   "source": [
    "# Classical solution for comparison\n",
    "def classical_ground_state(hamiltonian):\n",
    "    \"\"\"Compute the ground state energy of the Hamiltonian classically.\"\"\"\n",
    "    hamiltonian_matrix = qml.matrix(hamiltonian)  # Get the matrix representation\n",
    "    eigenvalues, _ = eigh(hamiltonian_matrix)     # Diagonalize the matrix\n",
    "    return min(eigenvalues)\n",
    "\n",
    "# Compute classical ground state\n",
    "classical_solution = classical_ground_state(hamiltonian)\n",
    "print(f\"Classical ground state energy: {classical_solution:.6f}\")"
   ]
  },
  {
   "cell_type": "code",
   "execution_count": null,
   "id": "cbd60179-1eab-4851-b4b3-3472a4530751",
   "metadata": {},
   "outputs": [],
   "source": [
    "# 3. Define the VQE quantum circuit\n",
    "dev = qml.device(\"default.qubit\", wires=n_qubits)\n",
    "\n",
    "def variational_ansatz(params):\n",
    "    \"\"\"Define the variational ansatz.\"\"\"\n",
    "    for i in range(n_qubits):\n",
    "        qml.RX(params[i], wires=i)\n",
    "        qml.RY(params[i + n_qubits], wires=i)\n",
    "    for i in range(n_qubits - 1):\n",
    "        qml.CNOT(wires=[i, i + 1])\n",
    "    qml.CNOT(wires=[n_qubits - 1, 0])  # Wrap around\n",
    "\n",
    "\n",
    "# Define the QNode\n",
    "@qml.qnode(dev)\n",
    "def circuit(params):\n",
    "    variational_ansatz(params)\n",
    "    return qml.expval(hamiltonian)\n",
    "    \n",
    "\n",
    "# Generate random parameters\n",
    "np.random.seed(42)\n",
    "params = np.random.uniform(0, 2 * np.pi, 2 * n_qubits)\n",
    "\n",
    "# Draw the circuit\n",
    "qml.draw_mpl(circuit)(params)"
   ]
  },
  {
   "cell_type": "code",
   "execution_count": null,
   "id": "4f871996-409d-48ab-9be9-a70c7ceb3a7c",
   "metadata": {},
   "outputs": [],
   "source": [
    "# 4. Optimize the VQE\n",
    "np.random.seed(42)\n",
    "init_params = np.random.uniform(0, 2 * np.pi, 2 * n_qubits)\n",
    "\n",
    "optimizer = qml.GradientDescentOptimizer(stepsize=0.4)\n",
    "params = init_params\n",
    "max_iter = 100\n",
    "convergence_tol = 1e-6\n",
    "\n",
    "energy = []\n",
    "for n in range(max_iter):\n",
    "    params, cost = optimizer.step_and_cost(circuit, params)\n",
    "    energy.append(cost)\n",
    "    print(f\"Iteration {n+1}: Energy = {cost:.6f}\")\n",
    "    if len(energy) > 2 and np.abs(energy[-1] - energy[-2]) < convergence_tol:\n",
    "        break\n",
    "\n",
    "print(f\"VQE estimated ground state energy: {cost:.6f}\")\n"
   ]
  },
  {
   "cell_type": "code",
   "execution_count": null,
   "id": "782f4951-e09e-4284-bc91-2cbd84e701a0",
   "metadata": {},
   "outputs": [],
   "source": [
    "# 5. Compare classical and VQE results\n",
    "import matplotlib.pyplot as plt\n",
    "\n",
    "plt.figure(figsize=(10, 6))\n",
    "plt.plot(energy, label=\"VQE Energy\", marker=\"o\")\n",
    "plt.axhline(y=classical_solution, color=\"r\", linestyle=\"--\", label=\"Classical Energy\")\n",
    "plt.xlabel(\"Iteration\")\n",
    "plt.ylabel(\"Energy\")\n",
    "plt.title(\"VQE Optimization Progress\")\n",
    "plt.legend()\n",
    "plt.grid()\n",
    "plt.show()\n"
   ]
  },
  {
   "cell_type": "markdown",
   "id": "0097203d-5c15-4915-9489-b198b61bdb77",
   "metadata": {},
   "source": [
    "#### Discussion about Pennylane return functions\n",
    "PennyLane offers various return types to extract different kinds of information from quantum circuits. The difference between `qml.state()` and `qml.expval(hamiltonian)` lies in the type of information returned and its intended use.\n",
    "\n",
    "1. qml.state()\n",
    "\n",
    "* Purpose:\n",
    "    Returns the full quantum state (statevector) of the system after executing the circuit.\n",
    "* Output:\n",
    "    A complex-valued array representing the amplitudes of the quantum state.\n",
    "    Useful for inspecting or debugging the complete state of the system.\n",
    "* Usage:\n",
    "    Typically used in simulations, where the statevector is accessible.\n",
    "    When you need detailed information about the full quantum state.\n",
    "    Ideal for debugging or verifying intermediate results in simulations.\n",
    "  "
   ]
  },
  {
   "cell_type": "code",
   "execution_count": null,
   "id": "e2bed01f-bee3-4dfe-87ad-591b95b1f2e0",
   "metadata": {},
   "outputs": [],
   "source": [
    "@qml.qnode(dev) \n",
    "   def circuit(params):\n",
    "    variational_ansatz(params)\n",
    "    return qml.state()"
   ]
  },
  {
   "cell_type": "markdown",
   "id": "84c0660f-c3d0-4c78-a36d-3ae360f850ef",
   "metadata": {},
   "source": [
    "If the system is in a state $|\\psi >  = \\alpha|0> + \\beta |1>$  calling `qml.state()` would return the vector $[\\alpha, \\beta] $"
   ]
  },
  {
   "cell_type": "markdown",
   "id": "1eb5d24a-11d7-4f3a-ad3f-df00687c0e05",
   "metadata": {},
   "source": [
    "If the system is in a state $|\\psi >  = \\alpha|0> + \\beta |1>$  calling `qml.state()` would return the vector $[\\alpha, \\beta] $"
   ]
  },
  {
   "cell_type": "markdown",
   "id": "d6c2e3b3-1a7e-4d34-ad39-43ff5fb8a184",
   "metadata": {},
   "source": [
    "2. qml.expval(hamiltonian)\n",
    "\n",
    "* Purpose:\n",
    "Computes the expectation value of a given observable (e.g., a Hamiltonian) with respect to the final quantum state.\n",
    "* Output:\n",
    "A scalar value representing the expected measurement outcome of the observable.\n",
    "This is the average value you would obtain if you repeatedly measured the observable on the prepared state.\n",
    "* Usage:\n",
    "Used in tasks like Variational Quantum Eigensolvers (VQE) to estimate the ground state energy of a Hamiltonian.\n",
    "Suitable for tasks involving real quantum hardware or noisy simulators."
   ]
  },
  {
   "cell_type": "code",
   "execution_count": null,
   "id": "66607947-f8f7-42ad-ba1e-1b82e62d8977",
   "metadata": {},
   "outputs": [],
   "source": [
    "@qml.qnode(dev)\n",
    "def circuit(params):\n",
    "    variational_ansatz(params)\n",
    "    return qml.expval(hamiltonian)\n"
   ]
  },
  {
   "cell_type": "markdown",
   "id": "2137d17b-54f6-41b1-a8a0-bef0579564dd",
   "metadata": {},
   "source": [
    "If the system is in state $ |\\psi >$ and the Hamiltonian is $H$ the expectation value is computed as $ <\\psi | H | \\psi >$"
   ]
  },
  {
   "cell_type": "markdown",
   "id": "eaf1a7b3-bc17-4258-971a-26c4e791f0ee",
   "metadata": {},
   "source": [
    "### Qiskit VQE"
   ]
  },
  {
   "cell_type": "markdown",
   "id": "556d6a1b",
   "metadata": {},
   "source": [
    "**Note:** You can find tutorials on solving more comprehensive problems, such as finding the ground state of the lithium hydride molecule, using the VQE within [the tutorials of Qiskit Nature](https://qiskit-community.github.io/qiskit-nature/tutorials/index.html)."
   ]
  },
  {
   "cell_type": "markdown",
   "id": "262c1f3f",
   "metadata": {},
   "source": [
    "we want to use a variational algorithm to find the eigenvalue of the following observable:\n",
    "\n",
    "$O_1 = 2II−2XX+3YY−3ZZ$ \n",
    "\n",
    "This observable has the following eigenvalues: $\\lambda_0 = -6, \\lambda_1 = 4, \\lambda_2 = 4, \\lambda_3 = 6$"
   ]
  },
  {
   "cell_type": "code",
   "execution_count": null,
   "id": "01b2df37-9118-459e-955e-793600dbe647",
   "metadata": {},
   "outputs": [],
   "source": [
    "from qiskit.quantum_info import SparsePauliOp\n",
    "\n",
    "observable_1 = SparsePauliOp.from_list([(\"II\", 2), (\"XX\", -2), (\"YY\", 3), (\"ZZ\", -3)])"
   ]
  },
  {
   "cell_type": "markdown",
   "id": "bcffe72f-70d6-47b8-87cf-190b031c8ddf",
   "metadata": {},
   "source": [
    "### Building VQE from scratch\n",
    "\n",
    "We'll first explore how to construct a VQE instance manually to find the lowest eigenvalue for $O_1$."
   ]
  },
  {
   "cell_type": "code",
   "execution_count": null,
   "id": "ee24847b-8e9b-4273-847b-47cbf3e70e8a",
   "metadata": {},
   "outputs": [],
   "source": [
    "def cost_func_vqe(params, ansatz, hamiltonian, estimator):\n",
    "    \"\"\"Return estimate of energy from estimator\n",
    "\n",
    "    Parameters:\n",
    "        params (ndarray): Array of ansatz parameters\n",
    "        ansatz (QuantumCircuit): Parameterized ansatz circuit\n",
    "        hamiltonian (SparsePauliOp): Operator representation of Hamiltonian\n",
    "        estimator (Estimator): Estimator primitive instance\n",
    "\n",
    "    Returns:\n",
    "        float: Energy estimate\n",
    "    \"\"\"\n",
    "    pub = (ansatz, hamiltonian, params)\n",
    "    cost = estimator.run([pub]).result()[0].data.evs\n",
    "\n",
    "    return cost"
   ]
  },
  {
   "cell_type": "code",
   "execution_count": null,
   "id": "1060d0e7-922c-4efc-8a78-f18288716c44",
   "metadata": {},
   "outputs": [],
   "source": [
    "from qiskit.circuit.library import TwoLocal\n",
    "from qiskit import QuantumCircuit\n",
    "\n",
    "import numpy as np\n",
    "\n",
    "reference_circuit = QuantumCircuit(2)\n",
    "reference_circuit.x(0)\n",
    "\n",
    "variational_form = TwoLocal(\n",
    "    2,\n",
    "    rotation_blocks=[\"rz\", \"ry\"],\n",
    "    entanglement_blocks=\"cx\",\n",
    "    entanglement=\"linear\",\n",
    "    reps=1,\n",
    ")\n",
    "raw_ansatz = reference_circuit.compose(variational_form)\n",
    "\n",
    "raw_ansatz.decompose().draw('mpl')"
   ]
  },
  {
   "cell_type": "code",
   "execution_count": null,
   "id": "e78fc2b7-4a81-43ed-81ac-5be056e09346",
   "metadata": {},
   "outputs": [],
   "source": [
    "## Let's start on local simulators\n",
    "\n",
    "from qiskit.primitives import StatevectorEstimator as Estimator\n",
    "from qiskit.primitives import StatevectorSampler as Sampler\n",
    "estimator = Estimator()\n",
    "sampler = Sampler()"
   ]
  },
  {
   "cell_type": "code",
   "execution_count": null,
   "id": "f6c3c624-c700-4a9e-9410-70049b66af60",
   "metadata": {},
   "outputs": [],
   "source": [
    "## initial parameters \n",
    "import numpy as np\n",
    "\n",
    "x0 = np.ones(raw_ansatz.num_parameters)\n",
    "print(x0)"
   ]
  },
  {
   "cell_type": "markdown",
   "id": "742297a6-cbea-4f20-98cc-9d584b255d3e",
   "metadata": {},
   "source": [
    "We can minimize this cost function to calculate optimal parameters"
   ]
  },
  {
   "cell_type": "code",
   "execution_count": null,
   "id": "a7efad05-2514-4be8-8005-68db205fd79e",
   "metadata": {},
   "outputs": [],
   "source": [
    "# SciPy minimizer routine\n",
    "from scipy.optimize import minimize\n",
    "import time\n",
    "\n",
    "start_time = time.time()\n",
    "\n",
    "result = minimize(cost_func_vqe, x0, args=(raw_ansatz, observable_1, estimator), method=\"COBYLA\", options={'maxiter': 1000, 'disp': True})\n",
    "\n",
    "end_time = time.time()\n",
    "execution_time = end_time - start_time"
   ]
  },
  {
   "cell_type": "code",
   "execution_count": null,
   "id": "c99909fe-240d-4c5c-9d22-25924bf14a2e",
   "metadata": {},
   "outputs": [],
   "source": [
    "result"
   ]
  },
  {
   "cell_type": "markdown",
   "id": "942a778a-0f79-4bba-89a0-ef2daa7ff53a",
   "metadata": {},
   "source": [
    "we can check this by using NumPy's linear algebra eigensolver due to the small dimension of the problem."
   ]
  },
  {
   "cell_type": "code",
   "execution_count": null,
   "id": "78dc1d7f-b0bf-483c-853e-ee0c99ccf938",
   "metadata": {},
   "outputs": [],
   "source": [
    "from numpy.linalg import eigvalsh\n",
    "\n",
    "solution_eigenvalue = min(eigvalsh(observable_1.to_matrix()))\n",
    "\n",
    "print(f\"\"\"Number of iterations: {result.nfev}\"\"\")\n",
    "print(f\"\"\"Time (s): {execution_time}\"\"\")\n",
    "\n",
    "print(\n",
    "    f\"Percent error: {abs((result.fun - solution_eigenvalue)/solution_eigenvalue):.2e}\"\n",
    ")"
   ]
  },
  {
   "cell_type": "markdown",
   "id": "9baa871d-3eea-4f2e-bc0e-8ca4e2f64f06",
   "metadata": {},
   "source": [
    "#### Experimenting with different optimizers\n",
    "We can adjust the optimizer using SciPy `minimize`'s  method  argument, with more options found here. We originally used a constrained minimizer (  `COBYLA`  ). In this example, we'll explore using an unconstrained minimizer (  `BFGS`  ) instead"
   ]
  },
  {
   "cell_type": "code",
   "execution_count": null,
   "id": "b4391763-7ee1-4207-a457-9ccd955d76a6",
   "metadata": {},
   "outputs": [],
   "source": [
    "import time\n",
    "start_time = time.time()\n",
    "\n",
    "result = minimize(cost_func_vqe, x0, args=(raw_ansatz, observable_1, estimator), method=\"BFGS\")\n",
    "\n",
    "end_time = time.time()\n",
    "execution_time = end_time - start_time"
   ]
  },
  {
   "cell_type": "code",
   "execution_count": null,
   "id": "155295d6-07ea-4d30-a2c3-6ca5bac7ff33",
   "metadata": {},
   "outputs": [],
   "source": [
    "print(\"CHANGED TO BFGS OPTIMIZER:\")\n",
    "print(f\"\"\"Number of iterations: {result.nfev}\"\"\")\n",
    "print(f\"\"\"Time (s): {execution_time}\"\"\")"
   ]
  },
  {
   "cell_type": "markdown",
   "id": "d5fde12e-445e-46d2-9194-817b6dbd4a45",
   "metadata": {},
   "source": [
    "#### VQE with Qiskit Primitives"
   ]
  },
  {
   "cell_type": "code",
   "execution_count": null,
   "id": "8786ec8a-a56e-4f43-91ab-2e3d7fe36162",
   "metadata": {},
   "outputs": [],
   "source": [
    "from qiskit.primitives import Estimator\n",
    "from qiskit_algorithms import VQE\n",
    "from qiskit_algorithms.optimizers import COBYLA, L_BFGS_B, SLSQP\n",
    "from qiskit_algorithms.utils import algorithm_globals\n",
    "from qiskit.circuit.library import TwoLocal\n",
    "from qiskit.quantum_info import SparsePauliOp\n",
    "\n",
    "H2_op = SparsePauliOp.from_list(\n",
    "    [\n",
    "        (\"II\", -1.052373245772859),\n",
    "        (\"IZ\", 0.39793742484318045),\n",
    "        (\"ZI\", -0.39793742484318045),\n",
    "        (\"ZZ\", -0.01128010425623538),\n",
    "        (\"XX\", 0.18093119978423156),\n",
    "    ]\n",
    ")"
   ]
  },
  {
   "cell_type": "code",
   "execution_count": null,
   "id": "2f9072b7-5a4e-443f-8d07-3cc30e553b49",
   "metadata": {},
   "outputs": [],
   "source": [
    "estimator = Estimator()\n",
    "\n",
    "\n",
    "# we will iterate over these different optimizers\n",
    "optimizers = [COBYLA(maxiter=80), L_BFGS_B(maxiter=60), SLSQP(maxiter=60)]\n",
    "converge_counts = np.empty([len(optimizers)], dtype=object)\n",
    "converge_vals = np.empty([len(optimizers)], dtype=object)\n",
    "\n",
    "for i, optimizer in enumerate(optimizers):\n",
    "    print(\"\\rOptimizer: {}        \".format(type(optimizer).__name__), end=\"\")\n",
    "    algorithm_globals.random_seed = 50\n",
    "    ansatz = TwoLocal(rotation_blocks=\"ry\", entanglement_blocks=\"cz\")\n",
    "\n",
    "    counts = []\n",
    "    values = []\n",
    "\n",
    "    def store_intermediate_result(eval_count, parameters, mean, std):\n",
    "        counts.append(eval_count)\n",
    "        values.append(mean)\n",
    "\n",
    "    vqe = VQE(estimator, ansatz, optimizer, callback=store_intermediate_result)\n",
    "    #result = vqe.compute_minimum_eigenvalue(operator=H2_op)\n",
    "    result = vqe.compute_minimum_eigenvalue(operator=observable_1)\n",
    "    converge_counts[i] = np.asarray(counts)\n",
    "    converge_vals[i] = np.asarray(values)\n",
    "\n",
    "print(\"\\rOptimization complete      \")"
   ]
  },
  {
   "cell_type": "markdown",
   "id": "8343430d-1586-4c9c-841e-f3a3c22fe07a",
   "metadata": {},
   "source": [
    "Now, from the callback data you stored, you can plot the energy value at each objective function call each optimizer makes. An optimizer using a finite difference method for computing gradient has that characteristic step-like plot where for a number of evaluations it is computing the value for close by points to establish a gradient "
   ]
  },
  {
   "cell_type": "code",
   "execution_count": null,
   "id": "988e5056-959c-4797-a7d7-8ebe69e76dda",
   "metadata": {},
   "outputs": [],
   "source": [
    "import pylab\n",
    "\n",
    "pylab.rcParams[\"figure.figsize\"] = (12, 8)\n",
    "for i, optimizer in enumerate(optimizers):\n",
    "    pylab.plot(converge_counts[i], converge_vals[i], label=type(optimizer).__name__)\n",
    "pylab.xlabel(\"Eval count\")\n",
    "pylab.ylabel(\"Energy\")\n",
    "pylab.title(\"Energy convergence for various optimizers\")\n",
    "pylab.legend(loc=\"upper right\");"
   ]
  },
  {
   "cell_type": "markdown",
   "id": "45ae31d0-a1b8-47f0-be18-c2759f6c5be7",
   "metadata": {},
   "source": [
    "### Discussion on the ansatz choice\n",
    "To iteratively optimize from a reference state $\\rho$ to a target state $\\psi(\\theta)$, we need to define a variational form $U_V(\\theta)$ that represents a collection of parametrized states for our variational algorithm to explore:\n",
    "\n",
    "$U_V(\\theta) U_R | 0> = U_V(\\theta) \\rho= U_A(\\theta) = |\\psi(\\theta)> $\n",
    "\n",
    "Note that the parametrized state depends on both the reference state $\\rho$, which does not depend on any parameters, and the variational form $U_V(\\theta)$, which always depends on parameters. We refer to the combination of these two halves as an ansatz $U_A(\\theta)$. As we construct our ansatz to represent a collection of parametrized states for our variational algorithm to explore, we realize an important issue: dimensionality. An \n",
    "n-qubit system (i.e., Hilbert space) has a vast number of distinct quantum states in the configuration space. We would require an unwieldy number of parameters to fully explore it. In addition, the runtime complexity of search algorithms, and others alike, grows exponentially with this dimensionality, a phenomenon often referred to in the literature as the curse of dimensionality. \n",
    "\n",
    "To counter this setback, it is common practice to impose some reasonable constraints on the variational form such that only the most relevant states are explored. Finding an efficient truncated ansatz is an active area of research, but we'll cover two common designs."
   ]
  },
  {
   "cell_type": "markdown",
   "id": "eaf998cd-af99-4182-a838-ef01e7a25b74",
   "metadata": {},
   "source": [
    "#### Heuristic ansatze and trade-offs\n",
    "\n",
    "If you do not have any information about your particular problem that can help restrict the dimensionality, you can try an arbitrary family of parameterized circuits with fewer than $2^{2n}$ parameters. However, there are some trade-offs to consider:\n",
    "\n",
    "- Speed: By reducing the search space, the algorithm can run faster.\n",
    "- Accuracy: However, reducing the space could risk excluding the actual solution to the problem, leading to suboptimal solutions.\n",
    "- Noise: Deeper circuits are affected by noise, so we need to experiment with our ansatz's connectivity, gates, and gate fidelity.\n",
    "\n",
    "**N-Local circuit**\n",
    "\n",
    "One of the most widely used examples of heuristic ansatzes is the N-local circuits, for a few reasons:\n",
    "\n",
    "- Efficient implementation: The N-local ansatz is typically composed of simple, local gates that can be implemented efficiently on a quantum computer, using a small number of physical qubits. This makes it easier to construct and optimize quantum circuits.\n",
    "- Captures important correlations: The N-local ansatz can capture important correlations between the qubits in a quantum system, even with a small number of gates. This is because the local gates can act on neighboring qubits and create entanglement between them, which can be important for simulating complex quantum systems.\n",
    "\n",
    "These circuits consist of rotation and entanglement layers that are repeated alternatively one or more times as follows:\n",
    "- Each layer is formed by gates of size at most N, where N has to be lower than the number of qubits.\n",
    "- For a rotation layer, the gates are stacked on top of each other. We can use standard rotation operations (RX.RZ)\n",
    "- For an entanglement layer, we can use gates like Toffoligates or  CX  with an entanglement strategy.\n",
    "\n",
    "  \n",
    "Example: 5 qubits with Toffoli gate, which acts on three qubits, making the circuit `3-local`"
   ]
  },
  {
   "cell_type": "code",
   "execution_count": null,
   "id": "57de7e50-ba7e-4f3b-985c-9b6c934ce29b",
   "metadata": {},
   "outputs": [],
   "source": [
    "from qiskit.circuit.library import NLocal, CCXGate, CRZGate, RXGate\n",
    "from qiskit.circuit import Parameter\n",
    "\n",
    "theta = Parameter(\"θ\")\n",
    "ansatz = NLocal(\n",
    "    num_qubits=5,\n",
    "    rotation_blocks=[RXGate(theta), CRZGate(theta)],\n",
    "    entanglement_blocks=CCXGate(),\n",
    "    entanglement=[[0, 1, 2], [0, 2, 3], [4, 2, 1], [3, 1, 0]],\n",
    "    reps=2,\n",
    "    insert_barriers=True,\n",
    ")\n",
    "ansatz.decompose().draw(\"mpl\")"
   ]
  },
  {
   "cell_type": "code",
   "execution_count": null,
   "id": "c911e81a-69f7-4ad0-a573-f045fe2f7421",
   "metadata": {},
   "outputs": [],
   "source": [
    "## Example using the standard 2-local circuits with single-qubit rotation gates and 2-qubit entanglement gates.\n",
    "from qiskit.circuit.library import TwoLocal\n",
    "\n",
    "ansatz = TwoLocal(\n",
    "    num_qubits=5,\n",
    "    rotation_blocks=[\"rx\", \"rz\"],\n",
    "    entanglement_blocks=\"cx\",\n",
    "    entanglement=\"linear\",\n",
    "    reps=2,\n",
    "    insert_barriers=True,\n",
    ")\n",
    "ansatz.decompose().draw(\"mpl\")"
   ]
  },
  {
   "cell_type": "markdown",
   "id": "b5f021f7-de8c-4ef9-a43c-87092a5ce23b",
   "metadata": {},
   "source": [
    "**EfficientSU2**\n",
    "\n",
    "EfficientSU2  is a hardware-efficient circuit that consists of layers of single-qubit operations spanning $SU(2)$ and  $CX$ entanglements. This is a heuristic pattern that can be used to prepare trial wave functions for variational quantum algorithms or as a classification circuit for machine learning."
   ]
  },
  {
   "cell_type": "code",
   "execution_count": null,
   "id": "283cdf3c-8b2a-460f-aa76-364e10ad68b2",
   "metadata": {},
   "outputs": [],
   "source": [
    "from qiskit.circuit.library import EfficientSU2\n",
    "\n",
    "ansatz = EfficientSU2(4, su2_gates=[\"rx\", \"y\"], entanglement=\"linear\", reps=1)\n",
    "ansatz.decompose().draw(\"mpl\")"
   ]
  },
  {
   "cell_type": "code",
   "execution_count": null,
   "id": "b1e65feb-08a7-4549-a4ea-5bac84a8ae3b",
   "metadata": {},
   "outputs": [],
   "source": []
  }
 ],
 "metadata": {
  "celltoolbar": "Slideshow",
  "kernelspec": {
   "display_name": "Python 3 (ipykernel)",
   "language": "python",
   "name": "python3"
  },
  "language_info": {
   "codemirror_mode": {
    "name": "ipython",
    "version": 3
   },
   "file_extension": ".py",
   "mimetype": "text/x-python",
   "name": "python",
   "nbconvert_exporter": "python",
   "pygments_lexer": "ipython3",
   "version": "3.10.15"
  }
 },
 "nbformat": 4,
 "nbformat_minor": 5
}
